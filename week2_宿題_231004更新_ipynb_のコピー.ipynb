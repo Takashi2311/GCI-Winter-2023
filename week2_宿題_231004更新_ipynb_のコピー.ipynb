{
  "cells": [
    {
      "cell_type": "markdown",
      "metadata": {
        "id": "view-in-github",
        "colab_type": "text"
      },
      "source": [
        "<a href=\"https://colab.research.google.com/github/Takashi2311/GCI-Winter-2023/blob/main/week2_%E5%AE%BF%E9%A1%8C_231004%E6%9B%B4%E6%96%B0_ipynb_%E3%81%AE%E3%82%B3%E3%83%94%E3%83%BC.ipynb\" target=\"_parent\"><img src=\"https://colab.research.google.com/assets/colab-badge.svg\" alt=\"Open In Colab\"/></a>"
      ]
    },
    {
      "cell_type": "markdown",
      "metadata": {
        "id": "93cl9JWr_5nm"
      },
      "source": [
        "## 問題文\n",
        "整数値を値にもつNumpyの1次元配列を引数として、5の倍数かつ2で割って1余る数を要素として持つ配列を出力する関数を実装してください。\n",
        "\n",
        "以下が想定される出力です\n",
        "\n",
        "```python\n",
        "a = np.array([1, 5, 10, 3, 4, 25, 30])\n",
        "print(homework(a))\n",
        "np.array([5, 25])\n",
        "```\n",
        "\n",
        "提出するときは、以下の点に注意してください。  \n",
        ">- 以下の関数`homework`の`!!WRITE ME!!`に処理を書いてください。(**「`!!WRITE ME!!`」は消して、記入してください。**)\n",
        ">- 実際の提出は記述された`homework`関数全てになり、**提出はOmnicampus内の宿題の欄から今週の課題を選択後、提出内容に関数を貼り付けてから[Pythonコード提出]を押してください。**\n",
        ">- 返り値は数値型の配列です。\n",
        ">- 関数は1つにまとめてください。"
      ]
    },
    {
      "cell_type": "code",
      "execution_count": null,
      "metadata": {
        "id": "thHL7HyXBXvS",
        "outputId": "80d444a9-3fff-4b84-e6ea-e0f9761db74a",
        "colab": {
          "base_uri": "https://localhost:8080/"
        }
      },
      "outputs": [
        {
          "output_type": "stream",
          "name": "stdout",
          "text": [
            "[ 5. 45. 25.]\n"
          ]
        }
      ],
      "source": [
        "# インポート\n",
        "import numpy as np\n",
        "\n",
        "# !!WRITE ME!!に処理を記入する（homework関数を提出することに注意）\n",
        "def homework(a):\n",
        "  b = a % 5\n",
        "  c = np.empty(0)\n",
        "  e = np.empty(0)\n",
        "  for i in range(len(a)):\n",
        "    if b[i] == 0:\n",
        "      c = np.append(c, a[i])\n",
        "  d = c%2\n",
        "  for j in range(len(c)):\n",
        "    if d[j] == 1:\n",
        "      e = np.append(e, c[j])\n",
        "  my_result = e\n",
        "\n",
        "  return my_result\n",
        "a = np.array([1, 5, 45, 39, 25, 50])\n",
        "print(homework(a))"
      ]
    },
    {
      "cell_type": "code",
      "source": [],
      "metadata": {
        "id": "65WggHAT57KM"
      },
      "execution_count": null,
      "outputs": []
    }
  ],
  "metadata": {
    "colab": {
      "provenance": [],
      "include_colab_link": true
    },
    "kernelspec": {
      "display_name": "Python 3",
      "name": "python3"
    },
    "language_info": {
      "codemirror_mode": {
        "name": "ipython",
        "version": 3
      },
      "file_extension": ".py",
      "mimetype": "text/x-python",
      "name": "python",
      "nbconvert_exporter": "python",
      "pygments_lexer": "ipython3",
      "version": "3.8.5"
    }
  },
  "nbformat": 4,
  "nbformat_minor": 0
}